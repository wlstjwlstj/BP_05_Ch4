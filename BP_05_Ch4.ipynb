{
  "nbformat": 4,
  "nbformat_minor": 0,
  "metadata": {
    "colab": {
      "provenance": [],
      "authorship_tag": "ABX9TyPO99gAPBuXpDfyQXKJUF7j",
      "include_colab_link": true
    },
    "kernelspec": {
      "name": "python3",
      "display_name": "Python 3"
    },
    "language_info": {
      "name": "python"
    }
  },
  "cells": [
    {
      "cell_type": "markdown",
      "metadata": {
        "id": "view-in-github",
        "colab_type": "text"
      },
      "source": [
        "<a href=\"https://colab.research.google.com/github/wlstjwlstj/BP_05_Ch4/blob/main/BP_05_Ch4.ipynb\" target=\"_parent\"><img src=\"https://colab.research.google.com/assets/colab-badge.svg\" alt=\"Open In Colab\"/></a>"
      ]
    },
    {
      "cell_type": "markdown",
      "source": [
        "1. 왜 다음과 같은 수식이 오류를 발생시키는가? 올바르게 수정하라."
      ],
      "metadata": {
        "id": "EaZSLQQmlJeR"
      }
    },
    {
      "cell_type": "code",
      "source": [
        "print(\"나는\",str(12)+\"개의 사과를 먹었다.\")  #문자열과 숫자는 합칠 수 없으므로 숫자를 문자열로 변환 후 합침"
      ],
      "metadata": {
        "colab": {
          "base_uri": "https://localhost:8080/"
        },
        "id": "pwF1uQW0lPNW",
        "outputId": "cdf1a0ab-985d-4509-c476-c43921f5276c"
      },
      "execution_count": 1,
      "outputs": [
        {
          "output_type": "stream",
          "name": "stdout",
          "text": [
            "나는 12개의 사과를 먹었다.\n"
          ]
        }
      ]
    },
    {
      "cell_type": "markdown",
      "source": [
        "2. 다음과 같은 수식을 계산하면 결과는 무엇인가?"
      ],
      "metadata": {
        "id": "Z6lcOcsFlx9-"
      }
    },
    {
      "cell_type": "code",
      "source": [
        "print(\"apple\"+ \"grape\")  #(문자열+문자열)을 하면 두 개의 문자열이 합쳐짐\n",
        "print(\"apple\"*3)  #(문자열*3)하면 문자열이 3번 반복됨"
      ],
      "metadata": {
        "colab": {
          "base_uri": "https://localhost:8080/"
        },
        "id": "5jlSUOQzl2eO",
        "outputId": "98663ca6-61d9-496e-d7a5-1902996fd75d"
      },
      "execution_count": 4,
      "outputs": [
        {
          "output_type": "stream",
          "name": "stdout",
          "text": [
            "applegrape\n",
            "appleappleapple\n"
          ]
        }
      ]
    },
    {
      "cell_type": "markdown",
      "source": [
        "3. 다음과 같이 사용자가 입력한 문자열 중에서 처음 2글자와 마지막 2글자를 추출한 후에 이들을 합쳐서 출력해보자."
      ],
      "metadata": {
        "id": "rdmU12iep4VU"
      }
    },
    {
      "cell_type": "code",
      "source": [
        "str=input(\"문자열을 입력하시오:\")\n",
        "print(str[0:2]+str[4:6])\n",
        "#str[0:2]로 앞 두글자 추출하고 str[4:6]으로 뒤 두글자 추출하여 합침"
      ],
      "metadata": {
        "colab": {
          "base_uri": "https://localhost:8080/"
        },
        "id": "Bs_GXTY6p_-t",
        "outputId": "eda8b47d-8fb9-40b4-d4f2-2338150f54a5"
      },
      "execution_count": 5,
      "outputs": [
        {
          "output_type": "stream",
          "name": "stdout",
          "text": [
            "문자열을 입력하시오:python\n",
            "pyon\n"
          ]
        }
      ]
    },
    {
      "cell_type": "markdown",
      "source": [
        "4. 다음과 같이 사용자가 입력한 문자열 뒤에 항상 \"하는 중\"을 붙이는 프로그램을 작성해보자."
      ],
      "metadata": {
        "id": "qI7jE6jRqdty"
      }
    },
    {
      "cell_type": "code",
      "source": [
        "str=input(\"문자열을 입력하시오:\")\n",
        "s=str+\"하는 중\"  #입력받은 문자열에 \"하는 중\" 합침\n",
        "print(s)"
      ],
      "metadata": {
        "colab": {
          "base_uri": "https://localhost:8080/"
        },
        "id": "sUZNDM87qk5-",
        "outputId": "123d5995-aaae-4c82-ba50-174181ad0710"
      },
      "execution_count": 6,
      "outputs": [
        {
          "output_type": "stream",
          "name": "stdout",
          "text": [
            "문자열을 입력하시오:청소\n",
            "청소하는 중\n"
          ]
        }
      ]
    },
    {
      "cell_type": "markdown",
      "source": [
        "5. 사용자가 입력한 기호 안에 문자열을 삽입하려면 어떻게 해야 하는가? 기호는 문자 2개로 이루어있다고 가정한다."
      ],
      "metadata": {
        "id": "TjGhuhseq1es"
      }
    },
    {
      "cell_type": "code",
      "source": [
        "s=input(\"기호를 입력하시오:\")\n",
        "a=s[0:1]  #첫번째 기호 추출\n",
        "b=s[-1:]  #두번째 기호 추출\n",
        "c=input(\"중간에 삽입할 문자열을 입력하시오:\")\n",
        "print(a+c+b)  #추출한 첫번째 기호+입력받은 중간 사빕 문자열+추출한 두번째 기호"
      ],
      "metadata": {
        "colab": {
          "base_uri": "https://localhost:8080/"
        },
        "id": "OcQIRk4VrVLg",
        "outputId": "1eaff697-b308-4898-87ed-556485f593d2"
      },
      "execution_count": 7,
      "outputs": [
        {
          "output_type": "stream",
          "name": "stdout",
          "text": [
            "기호를 입력하시오:[]\n",
            "중간에 삽입할 문자열을 입력하시오:python\n",
            "[python]\n"
          ]
        }
      ]
    }
  ]
}